{
  "nbformat": 4,
  "nbformat_minor": 0,
  "metadata": {
    "colab": {
      "provenance": [],
      "authorship_tag": "ABX9TyPN4c1r/ZPPpo5KQKSdNH7U",
      "include_colab_link": true
    },
    "kernelspec": {
      "name": "python3",
      "display_name": "Python 3"
    },
    "language_info": {
      "name": "python"
    }
  },
  "cells": [
    {
      "cell_type": "markdown",
      "metadata": {
        "id": "view-in-github",
        "colab_type": "text"
      },
      "source": [
        "<a href=\"https://colab.research.google.com/github/SadeenAlsabbagh/Computer-Vision/blob/main/00_pytorch.ipynb\" target=\"_parent\"><img src=\"https://colab.research.google.com/assets/colab-badge.svg\" alt=\"Open In Colab\"/></a>"
      ]
    },
    {
      "cell_type": "code",
      "execution_count": null,
      "metadata": {
        "id": "-B5gkz0hXscH"
      },
      "outputs": [],
      "source": []
    },
    {
      "cell_type": "markdown",
      "source": [
        "#pytorch-fundementals\n",
        "\n",
        "```\n",
        "# resrouce: https://www.learnpytorch.io/00_pytorch_fundamentals/\n",
        "```\n",
        "\n"
      ],
      "metadata": {
        "id": "JbR9m_T-YmoH"
      }
    },
    {
      "cell_type": "code",
      "source": [
        "import torch\n",
        "import pandas as pd\n",
        "import numpy as no\n",
        "import matplotlib.pyplot as plt\n",
        "print(torch.__version__)"
      ],
      "metadata": {
        "colab": {
          "base_uri": "https://localhost:8080/"
        },
        "id": "Ea05r-dGYvja",
        "outputId": "44664edc-798c-4520-8892-b37d7fcf1c2c"
      },
      "execution_count": null,
      "outputs": [
        {
          "output_type": "stream",
          "name": "stdout",
          "text": [
            "2.3.1+cu121\n"
          ]
        }
      ]
    },
    {
      "cell_type": "code",
      "source": [
        "#to create tensors: in scaler\n",
        "scalar= torch.tensor(7)\n",
        "scalar"
      ],
      "metadata": {
        "colab": {
          "base_uri": "https://localhost:8080/"
        },
        "id": "maurbQgWZt-D",
        "outputId": "0fa4d241-80ca-48d8-fe4e-79dbb8833c60"
      },
      "execution_count": null,
      "outputs": [
        {
          "output_type": "execute_result",
          "data": {
            "text/plain": [
              "tensor(7)"
            ]
          },
          "metadata": {},
          "execution_count": 3
        }
      ]
    },
    {
      "cell_type": "code",
      "source": [
        "scalar.ndim"
      ],
      "metadata": {
        "colab": {
          "base_uri": "https://localhost:8080/"
        },
        "id": "6baS3ufYZ3vP",
        "outputId": "0ce7941b-e360-49d7-cab2-ac919bd5492e"
      },
      "execution_count": null,
      "outputs": [
        {
          "output_type": "execute_result",
          "data": {
            "text/plain": [
              "0"
            ]
          },
          "metadata": {},
          "execution_count": 4
        }
      ]
    },
    {
      "cell_type": "code",
      "source": [
        "#to get tensor back as python int\n",
        "scalar.item()"
      ],
      "metadata": {
        "colab": {
          "base_uri": "https://localhost:8080/"
        },
        "id": "Mx9h-fT4aNrQ",
        "outputId": "be5d7cb5-9306-4011-dd86-536e21ad9a31"
      },
      "execution_count": null,
      "outputs": [
        {
          "output_type": "execute_result",
          "data": {
            "text/plain": [
              "7"
            ]
          },
          "metadata": {},
          "execution_count": 5
        }
      ]
    },
    {
      "cell_type": "code",
      "source": [
        "#vector\n",
        "vector= torch.tensor([7,7])\n",
        "vector # we can check the number of dimensions for a vector by the number of square brackets"
      ],
      "metadata": {
        "colab": {
          "base_uri": "https://localhost:8080/"
        },
        "id": "43ohiwxmaRQD",
        "outputId": "61e91c80-a473-494e-fa73-778bafd91f43"
      },
      "execution_count": null,
      "outputs": [
        {
          "output_type": "execute_result",
          "data": {
            "text/plain": [
              "tensor([7, 7])"
            ]
          },
          "metadata": {},
          "execution_count": 6
        }
      ]
    },
    {
      "cell_type": "code",
      "source": [
        "vector.ndim"
      ],
      "metadata": {
        "colab": {
          "base_uri": "https://localhost:8080/"
        },
        "id": "hg2ZtFDRawaW",
        "outputId": "d699dcc1-d5ca-40b6-89ff-c5819f63ccb6"
      },
      "execution_count": null,
      "outputs": [
        {
          "output_type": "execute_result",
          "data": {
            "text/plain": [
              "1"
            ]
          },
          "metadata": {},
          "execution_count": 7
        }
      ]
    },
    {
      "cell_type": "code",
      "source": [
        "vector.shape"
      ],
      "metadata": {
        "colab": {
          "base_uri": "https://localhost:8080/"
        },
        "id": "kARoOlxKa0J-",
        "outputId": "5b816cd8-fd06-48d0-9b26-449cb3dab241"
      },
      "execution_count": null,
      "outputs": [
        {
          "output_type": "execute_result",
          "data": {
            "text/plain": [
              "torch.Size([2])"
            ]
          },
          "metadata": {},
          "execution_count": 8
        }
      ]
    },
    {
      "cell_type": "code",
      "source": [
        "#matrix- building blocks: a 2dim arrays of numbers\n",
        "matrix= torch.tensor([[7,1],\n",
        "                     [3,2]]) # two square pairings\n",
        "matrix"
      ],
      "metadata": {
        "colab": {
          "base_uri": "https://localhost:8080/"
        },
        "id": "aBJeTSyWa2Mw",
        "outputId": "7e0fa51a-d0d4-4c3a-bca3-8fb5b2e29f39"
      },
      "execution_count": null,
      "outputs": [
        {
          "output_type": "execute_result",
          "data": {
            "text/plain": [
              "tensor([[7, 1],\n",
              "        [3, 2]])"
            ]
          },
          "metadata": {},
          "execution_count": 9
        }
      ]
    },
    {
      "cell_type": "markdown",
      "source": [
        "### Random tensors\n",
        "\n",
        "why random tensors: the way many neiral networks learn, they start with with tensrs full of random numbers and then adjust those random numbers to better represent data."
      ],
      "metadata": {
        "id": "CnVpiQqRbJmB"
      }
    },
    {
      "cell_type": "code",
      "source": [
        "#create a random tensor of size (3,4)- three of 4 pairs\n",
        "random_tensor= torch.rand(10,3,4)\n",
        "random_tensor"
      ],
      "metadata": {
        "colab": {
          "base_uri": "https://localhost:8080/"
        },
        "id": "7jJbb-bheYw6",
        "outputId": "3eb59b28-488a-4954-f70a-ea0f4e5544c9"
      },
      "execution_count": null,
      "outputs": [
        {
          "output_type": "execute_result",
          "data": {
            "text/plain": [
              "tensor([[[0.2803, 0.7031, 0.2717, 0.9872],\n",
              "         [0.9526, 0.2118, 0.9501, 0.0111],\n",
              "         [0.3813, 0.7224, 0.4704, 0.3376]],\n",
              "\n",
              "        [[0.6637, 0.4526, 0.3517, 0.1883],\n",
              "         [0.5646, 0.6945, 0.5963, 0.5928],\n",
              "         [0.7456, 0.0268, 0.5232, 0.3154]],\n",
              "\n",
              "        [[0.1061, 0.8206, 0.8473, 0.0736],\n",
              "         [0.1768, 0.5374, 0.6191, 0.0620],\n",
              "         [0.6806, 0.2226, 0.4803, 0.5892]],\n",
              "\n",
              "        [[0.8683, 0.3527, 0.7841, 0.9141],\n",
              "         [0.6570, 0.0944, 0.5831, 0.0489],\n",
              "         [0.0061, 0.3975, 0.3943, 0.0704]],\n",
              "\n",
              "        [[0.4026, 0.5211, 0.7222, 0.8419],\n",
              "         [0.3930, 0.1797, 0.4914, 0.4667],\n",
              "         [0.1233, 0.4276, 0.0607, 0.6683]],\n",
              "\n",
              "        [[0.7888, 0.1877, 0.8067, 0.1537],\n",
              "         [0.5680, 0.7791, 0.9772, 0.7698],\n",
              "         [0.4355, 0.6900, 0.6009, 0.7690]],\n",
              "\n",
              "        [[0.5707, 0.8808, 0.3719, 0.3672],\n",
              "         [0.8030, 0.5914, 0.1923, 0.4980],\n",
              "         [0.5289, 0.1132, 0.2158, 0.1970]],\n",
              "\n",
              "        [[0.5992, 0.4239, 0.8290, 0.1440],\n",
              "         [0.1382, 0.5992, 0.1099, 0.2231],\n",
              "         [0.9742, 0.9366, 0.9432, 0.4649]],\n",
              "\n",
              "        [[0.4835, 0.9397, 0.9120, 0.1507],\n",
              "         [0.5020, 0.2988, 0.2049, 0.3057],\n",
              "         [0.5998, 0.2602, 0.8503, 0.9013]],\n",
              "\n",
              "        [[0.5740, 0.0286, 0.7199, 0.3719],\n",
              "         [0.6294, 0.4615, 0.8521, 0.0943],\n",
              "         [0.4851, 0.8513, 0.7172, 0.9127]]])"
            ]
          },
          "metadata": {},
          "execution_count": 10
        }
      ]
    },
    {
      "cell_type": "code",
      "source": [
        "# to encode an image of 224x224 into a tensor format\n",
        "random_image_size_tensor=torch.rand(size=(3,224,224)) #height, width, color (R, G, B)\n",
        "random_image_size_tensor.shape, random_image_size_tensor.ndim #this is important bc, start with random numbers -> look at data -> update random numbers -> look at data -> update random numbers"
      ],
      "metadata": {
        "colab": {
          "base_uri": "https://localhost:8080/"
        },
        "id": "zY50UAoPfDk_",
        "outputId": "cb328794-5e55-4559-f13c-7ca25ad57fa3"
      },
      "execution_count": null,
      "outputs": [
        {
          "output_type": "execute_result",
          "data": {
            "text/plain": [
              "(torch.Size([3, 224, 224]), 3)"
            ]
          },
          "metadata": {},
          "execution_count": 11
        }
      ]
    },
    {
      "cell_type": "markdown",
      "source": [
        "### Zeros and Ones Tensors"
      ],
      "metadata": {
        "id": "vs1Z4LDfgHqp"
      }
    },
    {
      "cell_type": "code",
      "source": [
        "#create a tensor of all zeros\n",
        "zeros = torch.zeros(size=(3,4))\n",
        "zeros #to determine the data type: ones.dtype"
      ],
      "metadata": {
        "colab": {
          "base_uri": "https://localhost:8080/"
        },
        "id": "H8ipOwgHgTXg",
        "outputId": "966fee05-ed2a-42a5-a427-497f111be1b5"
      },
      "execution_count": null,
      "outputs": [
        {
          "output_type": "execute_result",
          "data": {
            "text/plain": [
              "tensor([[0., 0., 0., 0.],\n",
              "        [0., 0., 0., 0.],\n",
              "        [0., 0., 0., 0.]])"
            ]
          },
          "metadata": {},
          "execution_count": 12
        }
      ]
    },
    {
      "cell_type": "markdown",
      "source": [
        "### creating a range of tensors and tensors-like"
      ],
      "metadata": {
        "id": "qbmNskwsg5iM"
      }
    },
    {
      "cell_type": "code",
      "source": [
        "#torch.range()\n",
        "one_to_ten = torch.arange(1,11)\n",
        "one_to_ten\n",
        "\n",
        "#we can also define the step\n",
        "one_to_ten = torch.arange(start=1, end = 11 , step= 1)\n",
        "one_to_ten"
      ],
      "metadata": {
        "colab": {
          "base_uri": "https://localhost:8080/"
        },
        "id": "vjEZow6ng9-A",
        "outputId": "e7406584-0aa8-4953-e198-c04eaa892ed4"
      },
      "execution_count": null,
      "outputs": [
        {
          "output_type": "execute_result",
          "data": {
            "text/plain": [
              "tensor([ 1,  2,  3,  4,  5,  6,  7,  8,  9, 10])"
            ]
          },
          "metadata": {},
          "execution_count": 13
        }
      ]
    },
    {
      "cell_type": "code",
      "source": [
        "#creating tensors like & get depricated message\n",
        "ten_zeros= torch.zeros_like(input=one_to_ten)\n",
        "ten_zeros"
      ],
      "metadata": {
        "colab": {
          "base_uri": "https://localhost:8080/"
        },
        "id": "uZcMJGWKhMu6",
        "outputId": "7722df21-4dfa-4cb5-f92e-8d8777662e04"
      },
      "execution_count": null,
      "outputs": [
        {
          "output_type": "execute_result",
          "data": {
            "text/plain": [
              "tensor([0, 0, 0, 0, 0, 0, 0, 0, 0, 0])"
            ]
          },
          "metadata": {},
          "execution_count": 14
        }
      ]
    },
    {
      "cell_type": "markdown",
      "source": [
        "### Tensor datatypes\n",
        "***Note***: Tensor datatypes are one of the three errors you might run into with PyTorch:\n",
        "1. Tensors not right data types\n",
        "2.  Tensors not right shape\n",
        "3.  Tensors not right device\n",
        "\n",
        "https://www.learnpytorch.io/00_pytorch_fundamentals/"
      ],
      "metadata": {
        "id": "SBIsp4YIjMnp"
      }
    },
    {
      "cell_type": "code",
      "source": [
        "float_32_tensor = torch.tensor([3.0, 6.0, 9.0],\n",
        "                               dtype= None, #what data type is the tensor\n",
        "                               device = None, #by default is the tnesor is going to be a cpu/CUDA\n",
        "                               requires_grad= False) # whether or not we need to track the gradiant for this tensor\n",
        "float_32_tensor"
      ],
      "metadata": {
        "colab": {
          "base_uri": "https://localhost:8080/"
        },
        "id": "7SBwsTZYjPb2",
        "outputId": "ae84937f-8bcd-4832-cb33-2608d6f7aca1"
      },
      "execution_count": null,
      "outputs": [
        {
          "output_type": "execute_result",
          "data": {
            "text/plain": [
              "tensor([3., 6., 9.])"
            ]
          },
          "metadata": {},
          "execution_count": 15
        }
      ]
    },
    {
      "cell_type": "code",
      "source": [
        "#in order to change tensor datatypes - to test the data types for your tensors\n",
        "float_16_tensor = float_32_tensor.type(torch.float16)\n",
        "float_16_tensor #you can also have tensor operations between long, int, float"
      ],
      "metadata": {
        "colab": {
          "base_uri": "https://localhost:8080/"
        },
        "id": "Nu01UnS5kwWt",
        "outputId": "bd4838e9-00ed-4c8f-ca30-deb41da33021"
      },
      "execution_count": null,
      "outputs": [
        {
          "output_type": "execute_result",
          "data": {
            "text/plain": [
              "tensor([3., 6., 9.], dtype=torch.float16)"
            ]
          },
          "metadata": {},
          "execution_count": 16
        }
      ]
    },
    {
      "cell_type": "markdown",
      "source": [
        "### Getting information from tensors\n",
        "1. Tensors not right data types-- to get datatype from tensor, can use 'tensor.dtyp'\n",
        "2. Tensors not right shape-- to get shape from tensor, can use 'tensor.shape'\n",
        "3. Tensors not right device-- to get device from tensor, can use 'tensor.device'"
      ],
      "metadata": {
        "id": "VY-uNwOYn9vC"
      }
    },
    {
      "cell_type": "code",
      "source": [
        "#an attribute is written without the bracket, a function is written with the brackets\n",
        "vector= torch.rand([7,7])\n",
        "vector.size()"
      ],
      "metadata": {
        "colab": {
          "base_uri": "https://localhost:8080/"
        },
        "id": "Ot9F248RoX3I",
        "outputId": "34397390-8d71-423d-ce49-7a813bc1e3fc"
      },
      "execution_count": null,
      "outputs": [
        {
          "output_type": "execute_result",
          "data": {
            "text/plain": [
              "torch.Size([7, 7])"
            ]
          },
          "metadata": {},
          "execution_count": 17
        }
      ]
    },
    {
      "cell_type": "code",
      "source": [
        "#find out details about teh tensor\n",
        "print(vector)\n",
        "print(f\"Datatype of tensor: {vector.dtype}\")\n",
        "print(f\"Shape of tensor: {vector.shape}\")\n",
        "print(f\"Device tensor is stored on: {vector.device}\")"
      ],
      "metadata": {
        "colab": {
          "base_uri": "https://localhost:8080/"
        },
        "id": "7xexJQv0pLj8",
        "outputId": "bf0653e9-308c-4266-93b5-36ccfbf4527d"
      },
      "execution_count": null,
      "outputs": [
        {
          "output_type": "stream",
          "name": "stdout",
          "text": [
            "tensor([[0.3198, 0.6514, 0.6628, 0.5746, 0.3641, 0.2038, 0.1551],\n",
            "        [0.3907, 0.5906, 0.3651, 0.8303, 0.9522, 0.7480, 0.8260],\n",
            "        [0.6939, 0.9112, 0.1699, 0.4553, 0.0908, 0.7043, 0.6033],\n",
            "        [0.6733, 0.3518, 0.2221, 0.2043, 0.9938, 0.6823, 0.3727],\n",
            "        [0.9118, 0.2535, 0.8562, 0.9775, 0.2611, 0.1181, 0.0557],\n",
            "        [0.6047, 0.3961, 0.6991, 0.5191, 0.2734, 0.8943, 0.5881],\n",
            "        [0.1926, 0.7060, 0.9028, 0.0696, 0.3623, 0.7412, 0.5985]])\n",
            "Datatype of tensor: torch.float32\n",
            "Shape of tensor: torch.Size([7, 7])\n",
            "Device tensor is stored on: cpu\n"
          ]
        }
      ]
    },
    {
      "cell_type": "markdown",
      "source": [
        "### minpulating tensors (tensor operations)\n",
        "\n",
        "* addition\n",
        "* subtraction\n",
        "* multiplication (element-wise): multiply each element by the number\n",
        "* division\n",
        "* matrix multiplication (dot product)\n",
        "\n",
        "there are two main rules that performing matrix multiplication needs to satisfy:\n",
        "1. the **inner dimention** must match: ex. (2,3) @/matmul (3,2)\n",
        "2. the resulting matrix has the shape of the **outer dimensions**: ex. (2,3) @/matmul (3,2) = (2,2)"
      ],
      "metadata": {
        "id": "uFgvbzGQpdCy"
      }
    },
    {
      "cell_type": "code",
      "source": [
        "#create a tensor and add 10 to it\n",
        "tensor = torch.tensor([1,2,3])\n",
        "tensor + 10"
      ],
      "metadata": {
        "colab": {
          "base_uri": "https://localhost:8080/"
        },
        "id": "c-MEjbI3pn5u",
        "outputId": "1b82f477-d79b-42b2-d20c-f1284278fa29"
      },
      "execution_count": null,
      "outputs": [
        {
          "output_type": "execute_result",
          "data": {
            "text/plain": [
              "tensor([11, 12, 13])"
            ]
          },
          "metadata": {},
          "execution_count": 19
        }
      ]
    },
    {
      "cell_type": "code",
      "source": [
        "# element wise multiplication\n",
        "print (tensor, '*', tensor)\n",
        "print(f'Element wise multiplication: {tensor * tensor}')\n",
        "# element wise division\n",
        "print(f'Element wise division: {tensor / tensor}')\n",
        "# element wise subtraction\n",
        "print(f'Element wise subtraction: {tensor - tensor}')\n",
        "# element wise addition\n",
        "print(f'Element wise addition: {tensor + tensor}')"
      ],
      "metadata": {
        "colab": {
          "base_uri": "https://localhost:8080/"
        },
        "id": "2d8AcuLHqVpI",
        "outputId": "c1033017-7515-4eaa-ffc2-51fbc430d4d1"
      },
      "execution_count": null,
      "outputs": [
        {
          "output_type": "stream",
          "name": "stdout",
          "text": [
            "tensor([1, 2, 3]) * tensor([1, 2, 3])\n",
            "Element wise multiplication: tensor([1, 4, 9])\n",
            "Element wise division: tensor([1., 1., 1.])\n",
            "Element wise subtraction: tensor([0, 0, 0])\n",
            "Element wise addition: tensor([2, 4, 6])\n"
          ]
        }
      ]
    },
    {
      "cell_type": "code",
      "source": [
        "#matrix multiplication\n",
        "torch.matmul(tensor, tensor)\n",
        "\n",
        "#matric multiplication by hand\n",
        "1*1 + 2*2 + 3*3"
      ],
      "metadata": {
        "colab": {
          "base_uri": "https://localhost:8080/"
        },
        "id": "07WTqLBmqogY",
        "outputId": "3aaa0819-cdcb-4d80-b56e-b4f8ebad32f1"
      },
      "execution_count": null,
      "outputs": [
        {
          "output_type": "execute_result",
          "data": {
            "text/plain": [
              "14"
            ]
          },
          "metadata": {},
          "execution_count": 21
        }
      ]
    },
    {
      "cell_type": "code",
      "source": [
        "#using a for loop to do the matrix multiplication by hand\n",
        "\n",
        "%%time\n",
        "value = 0\n",
        "for i in range (len(tensor)):\n",
        "  value += tensor [i] * tensor[i]\n",
        "print(value)"
      ],
      "metadata": {
        "colab": {
          "base_uri": "https://localhost:8080/"
        },
        "id": "Mrt_8v28rApG",
        "outputId": "2ba0448c-69ed-405e-e555-c25ed5738c92"
      },
      "execution_count": null,
      "outputs": [
        {
          "output_type": "stream",
          "name": "stdout",
          "text": [
            "tensor(14)\n",
            "CPU times: user 3.4 ms, sys: 89 µs, total: 3.49 ms\n",
            "Wall time: 4.41 ms\n"
          ]
        }
      ]
    },
    {
      "cell_type": "markdown",
      "source": [
        "### Shape errors: most common errors"
      ],
      "metadata": {
        "id": "mIUHpxhJsjjk"
      }
    },
    {
      "cell_type": "code",
      "source": [
        "#shapes for matrix multiplications\n",
        "tensor_A = torch.tensor([[1,2],\n",
        "                         [3,4],\n",
        "                         [5,6]])\n",
        "tensor_B = torch.tensor([[7,10],\n",
        "                         [8,11],\n",
        "                         [9,12]])\n",
        "torch.mm(tensor_A, tensor_B) #torch.mm is the same as torch.matmul\n"
      ],
      "metadata": {
        "id": "VwcmJ0aZszdi",
        "colab": {
          "base_uri": "https://localhost:8080/",
          "height": 211
        },
        "outputId": "4156e81b-6978-4f86-e8c9-017107a693b4"
      },
      "execution_count": null,
      "outputs": [
        {
          "output_type": "error",
          "ename": "RuntimeError",
          "evalue": "mat1 and mat2 shapes cannot be multiplied (3x2 and 3x2)",
          "traceback": [
            "\u001b[0;31m---------------------------------------------------------------------------\u001b[0m",
            "\u001b[0;31mRuntimeError\u001b[0m                              Traceback (most recent call last)",
            "\u001b[0;32m<ipython-input-23-92bca02caf74>\u001b[0m in \u001b[0;36m<cell line: 8>\u001b[0;34m()\u001b[0m\n\u001b[1;32m      6\u001b[0m                          \u001b[0;34m[\u001b[0m\u001b[0;36m8\u001b[0m\u001b[0;34m,\u001b[0m\u001b[0;36m11\u001b[0m\u001b[0;34m]\u001b[0m\u001b[0;34m,\u001b[0m\u001b[0;34m\u001b[0m\u001b[0;34m\u001b[0m\u001b[0m\n\u001b[1;32m      7\u001b[0m                          [9,12]])\n\u001b[0;32m----> 8\u001b[0;31m \u001b[0mtorch\u001b[0m\u001b[0;34m.\u001b[0m\u001b[0mmm\u001b[0m\u001b[0;34m(\u001b[0m\u001b[0mtensor_A\u001b[0m\u001b[0;34m,\u001b[0m \u001b[0mtensor_B\u001b[0m\u001b[0;34m)\u001b[0m \u001b[0;31m#torch.mm is the same as torch.matmul\u001b[0m\u001b[0;34m\u001b[0m\u001b[0;34m\u001b[0m\u001b[0m\n\u001b[0m",
            "\u001b[0;31mRuntimeError\u001b[0m: mat1 and mat2 shapes cannot be multiplied (3x2 and 3x2)"
          ]
        }
      ]
    },
    {
      "cell_type": "markdown",
      "source": [
        "to fix the tensor shape errors/issues, we can minpulate the shape of one of our tensors using a transpose\n",
        "a **transpose** switches the axes or dimensions of a given tensor"
      ],
      "metadata": {
        "id": "fWoQZf1uNVE-"
      }
    },
    {
      "cell_type": "code",
      "source": [
        "tensor_B.T, tensor_B.shape"
      ],
      "metadata": {
        "colab": {
          "base_uri": "https://localhost:8080/"
        },
        "id": "jXVWKh3aNsph",
        "outputId": "2c5b366b-9b0b-4f3b-8bf3-21d2a773ed61"
      },
      "execution_count": null,
      "outputs": [
        {
          "output_type": "execute_result",
          "data": {
            "text/plain": [
              "(tensor([[ 7,  8,  9],\n",
              "         [10, 11, 12]]),\n",
              " torch.Size([3, 2]))"
            ]
          },
          "metadata": {},
          "execution_count": 24
        }
      ]
    },
    {
      "cell_type": "markdown",
      "source": [
        "##Tensor aggregation (min, max, mean, sum)"
      ],
      "metadata": {
        "id": "7CVUP7FPSSbI"
      }
    },
    {
      "cell_type": "code",
      "source": [
        "x= torch.arange(1, 100, 10)\n",
        "x"
      ],
      "metadata": {
        "colab": {
          "base_uri": "https://localhost:8080/"
        },
        "id": "3rjRL0eeOkiW",
        "outputId": "d392ab22-e2a4-4ab2-cc27-606f3108dae5"
      },
      "execution_count": null,
      "outputs": [
        {
          "output_type": "execute_result",
          "data": {
            "text/plain": [
              "tensor([ 1, 11, 21, 31, 41, 51, 61, 71, 81, 91])"
            ]
          },
          "metadata": {},
          "execution_count": 26
        }
      ]
    },
    {
      "cell_type": "code",
      "source": [
        "#Find the min\n",
        "torch.min(x), x.min()"
      ],
      "metadata": {
        "colab": {
          "base_uri": "https://localhost:8080/"
        },
        "id": "hsO2i0PsSwlK",
        "outputId": "ae523137-06c8-4217-b3d2-9d0e93f12690"
      },
      "execution_count": null,
      "outputs": [
        {
          "output_type": "execute_result",
          "data": {
            "text/plain": [
              "(tensor(1), tensor(1))"
            ]
          },
          "metadata": {},
          "execution_count": 27
        }
      ]
    },
    {
      "cell_type": "code",
      "source": [
        "torch.mean(x.type(torch.float32)), x.type(torch.float32).mean() #we have to change the datatype of the tensor since it was initially a long"
      ],
      "metadata": {
        "colab": {
          "base_uri": "https://localhost:8080/"
        },
        "id": "jfY-a6v8Swig",
        "outputId": "159271a6-1f29-47d9-af6a-f6b3485fe52b"
      },
      "execution_count": null,
      "outputs": [
        {
          "output_type": "execute_result",
          "data": {
            "text/plain": [
              "(tensor(46.), tensor(46.))"
            ]
          },
          "metadata": {},
          "execution_count": 28
        }
      ]
    },
    {
      "cell_type": "markdown",
      "source": [
        "## finding the positional min and max"
      ],
      "metadata": {
        "id": "2_PfhZnlTb99"
      }
    },
    {
      "cell_type": "code",
      "source": [
        "x.argmin()  #positional min"
      ],
      "metadata": {
        "colab": {
          "base_uri": "https://localhost:8080/"
        },
        "id": "lyVvj0axSwfl",
        "outputId": "b358fc40-73f5-4410-95af-533f5264bc39"
      },
      "execution_count": null,
      "outputs": [
        {
          "output_type": "execute_result",
          "data": {
            "text/plain": [
              "tensor(0)"
            ]
          },
          "metadata": {},
          "execution_count": 30
        }
      ]
    },
    {
      "cell_type": "code",
      "source": [
        "#find the position/index in tensor that has the max\n",
        "x.argmax()  #positional max"
      ],
      "metadata": {
        "colab": {
          "base_uri": "https://localhost:8080/"
        },
        "id": "AahLpYfKSwZZ",
        "outputId": "885ccb8a-2cf3-4550-a62a-ba170c722f4e"
      },
      "execution_count": null,
      "outputs": [
        {
          "output_type": "execute_result",
          "data": {
            "text/plain": [
              "tensor(9)"
            ]
          },
          "metadata": {},
          "execution_count": 31
        }
      ]
    },
    {
      "cell_type": "code",
      "source": [
        "x[9]"
      ],
      "metadata": {
        "colab": {
          "base_uri": "https://localhost:8080/"
        },
        "id": "ggd-kDInTtyX",
        "outputId": "961f0916-3dad-4e58-e425-9771584252aa"
      },
      "execution_count": null,
      "outputs": [
        {
          "output_type": "execute_result",
          "data": {
            "text/plain": [
              "tensor(91)"
            ]
          },
          "metadata": {},
          "execution_count": 32
        }
      ]
    },
    {
      "cell_type": "markdown",
      "source": [
        "##reshaping, stacking, squeezing, and unsqueezing tensors (minpulate tensor shape issues)\n",
        "* reshaping- reshapes an input tensor to a defined shape\n",
        "* view - return a view of an input tensor of certain shape but keep the same memory as the orignal tensor\n",
        "* stacking - combine multiple tensors on top of each other (vstack) or side by side (hstack)\n",
        "* squeeze - remove all '1' dimensions from a tensor\n",
        "* unsqueeze - add a 1 dimention to a target tensor\n",
        "* permute - return a view of the inpit with dimensions to a target tensor"
      ],
      "metadata": {
        "id": "nW-dRtIVT_9n"
      }
    },
    {
      "cell_type": "code",
      "source": [],
      "metadata": {
        "id": "Sc02XACzVBel"
      },
      "execution_count": null,
      "outputs": []
    }
  ]
}